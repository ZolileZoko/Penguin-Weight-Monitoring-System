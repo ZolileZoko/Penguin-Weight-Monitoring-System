{
 "cells": [
  {
   "cell_type": "code",
   "execution_count": null,
   "id": "49458f59-0c56-42b7-89e6-b39014a41a6f",
   "metadata": {},
   "outputs": [],
   "source": [
    "import pandas as pd\n",
    "import numpy as np\n",
    "import random\n",
    "from datetime import datetime, timedelta\n",
    "\n",
    "# Number of entries\n",
    "num_entries = 100_000\n",
    "\n",
    "# Possible colony locations\n",
    "locations = [\"Boulders Beach\", \"Stony Point\", \"Dassen Island\", \"Robben Island\", \"Bird Island\"]\n",
    "\n",
    "# Generate random timestamps within a 2-year range\n",
    "start_time = datetime(2022, 1, 1)\n",
    "timestamps = [start_time + timedelta(minutes=random.randint(0, 2 * 365 * 24 * 60)) for _ in range(num_entries)]\n",
    "\n",
    "# Generate RFID tags (10-digit numbers)\n",
    "rfids = [f'{random.randint(1000000000, 9999999999)}' for _ in range(num_entries)]\n",
    "\n",
    "# Weights (in grams), normally distributed around 3000g ± 300g\n",
    "weights = np.random.normal(loc=3000, scale=300, size=num_entries).clip(1800, 4500)\n",
    "\n",
    "# Sex (some may be unknown)\n",
    "sexes = np.random.choice(['M', 'F', 'Unknown'], size=num_entries, p=[0.45, 0.45, 0.1])\n",
    "\n",
    "# Age category\n",
    "age_categories = np.random.choice(['Chick', 'Juvenile', 'Adult'], size=num_entries, p=[0.2, 0.3, 0.5])\n",
    "\n",
    "# Measurement validity (simulate some invalid entries)\n",
    "valid_flags = np.random.choice([True, False], size=num_entries, p=[0.95, 0.05])\n",
    "\n",
    "# Locations\n",
    "colony_locations = np.random.choice(locations, size=num_entries)\n",
    "\n",
    "# Construct DataFrame\n",
    "df = pd.DataFrame({\n",
    "    'timestamp': timestamps,\n",
    "    'location': colony_locations,\n",
    "    'rfid': rfids,\n",
    "    'weight_g': weights.astype(int),\n",
    "    'sex': sexes,\n",
    "    'age_category': age_categories,\n",
    "    'valid_measurement': valid_flags\n",
    "})\n",
    "\n",
    "# Save to CSV\n",
    "df.to_csv(\"dummy_penguin_weights_100k.csv\", index=False)\n",
    "print(\"100k-entry dummy dataset saved as 'dummy_penguin_weights_100k.csv'\")\n"
   ]
  }
 ],
 "metadata": {
  "kernelspec": {
   "display_name": "Python [conda env:base] *",
   "language": "python",
   "name": "conda-base-py"
  },
  "language_info": {
   "codemirror_mode": {
    "name": "ipython",
    "version": 3
   },
   "file_extension": ".py",
   "mimetype": "text/x-python",
   "name": "python",
   "nbconvert_exporter": "python",
   "pygments_lexer": "ipython3",
   "version": "3.12.7"
  }
 },
 "nbformat": 4,
 "nbformat_minor": 5
}
